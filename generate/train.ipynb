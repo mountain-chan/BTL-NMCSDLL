{
 "cells": [
  {
   "cell_type": "code",
   "execution_count": 1,
   "metadata": {},
   "outputs": [],
   "source": [
    "from pymongo import MongoClient\n",
    "import numpy as np\n",
    "import pandas as pd\n",
    "import matplotlib.pyplot as plt\n",
    "from sklearn.model_selection import train_test_split\n",
    "from sklearn.preprocessing import StandardScaler\n",
    "from joblib import dump"
   ]
  },
  {
   "cell_type": "code",
   "execution_count": 2,
   "metadata": {},
   "outputs": [],
   "source": [
    "uri = \"mongodb://localhost:27017/booking\"\n",
    "\n",
    "client = MongoClient(uri)\n",
    "db = client.get_default_database()\n",
    "\n",
    "results = list(db.rooms.find({}, {\"facility\": 0, \"description\": 0, \"name\": 0}))\n",
    "for item in results:\n",
    "    _property = db.properties.find_one({\"_id\": item[\"property_id\"]})\n",
    "    item[\"is_near_beach\"] = _property[\"is_near_beach\"]\n",
    "    item[\"rank\"] = _property[\"rank\"]\n",
    "    item[\"meal\"] = _property[\"meal\"]\n",
    "    item[\"distance_from_center\"] = _property[\"distance_from_center\"]\n",
    "    item[\"city_id\"] = _property[\"city_id\"]\n",
    "    item[\"property_type_id\"] = _property[\"property_type_id\"]"
   ]
  },
  {
   "cell_type": "markdown",
   "metadata": {},
   "source": [
    "### Sau khi đã có dữ liệu, chuyển thành dạng DataFrame"
   ]
  },
  {
   "cell_type": "code",
   "execution_count": 3,
   "metadata": {
    "scrolled": true
   },
   "outputs": [
    {
     "data": {
      "text/html": [
       "<div>\n",
       "<style scoped>\n",
       "    .dataframe tbody tr th:only-of-type {\n",
       "        vertical-align: middle;\n",
       "    }\n",
       "\n",
       "    .dataframe tbody tr th {\n",
       "        vertical-align: top;\n",
       "    }\n",
       "\n",
       "    .dataframe thead th {\n",
       "        text-align: right;\n",
       "    }\n",
       "</style>\n",
       "<table border=\"1\" class=\"dataframe\">\n",
       "  <thead>\n",
       "    <tr style=\"text-align: right;\">\n",
       "      <th></th>\n",
       "      <th>_id</th>\n",
       "      <th>acreage</th>\n",
       "      <th>price</th>\n",
       "      <th>bed_type</th>\n",
       "      <th>property_id</th>\n",
       "      <th>is_near_beach</th>\n",
       "      <th>rank</th>\n",
       "      <th>meal</th>\n",
       "      <th>distance_from_center</th>\n",
       "      <th>city_id</th>\n",
       "      <th>property_type_id</th>\n",
       "    </tr>\n",
       "  </thead>\n",
       "  <tbody>\n",
       "    <tr>\n",
       "      <th>0</th>\n",
       "      <td>5fcb2af4510a272d9c4baed8</td>\n",
       "      <td>14</td>\n",
       "      <td>420</td>\n",
       "      <td>1</td>\n",
       "      <td>8</td>\n",
       "      <td>0</td>\n",
       "      <td>3.9</td>\n",
       "      <td>4</td>\n",
       "      <td>150</td>\n",
       "      <td>2</td>\n",
       "      <td>7</td>\n",
       "    </tr>\n",
       "    <tr>\n",
       "      <th>1</th>\n",
       "      <td>5fcb2af4510a272d9c4baed9</td>\n",
       "      <td>12</td>\n",
       "      <td>330</td>\n",
       "      <td>0</td>\n",
       "      <td>27</td>\n",
       "      <td>0</td>\n",
       "      <td>2.8</td>\n",
       "      <td>1</td>\n",
       "      <td>6436</td>\n",
       "      <td>2</td>\n",
       "      <td>3</td>\n",
       "    </tr>\n",
       "    <tr>\n",
       "      <th>2</th>\n",
       "      <td>5fcb2af4510a272d9c4baeda</td>\n",
       "      <td>27</td>\n",
       "      <td>320</td>\n",
       "      <td>1</td>\n",
       "      <td>11</td>\n",
       "      <td>1</td>\n",
       "      <td>1.1</td>\n",
       "      <td>3</td>\n",
       "      <td>3005</td>\n",
       "      <td>3</td>\n",
       "      <td>5</td>\n",
       "    </tr>\n",
       "    <tr>\n",
       "      <th>3</th>\n",
       "      <td>5fcb2af4510a272d9c4baedb</td>\n",
       "      <td>31</td>\n",
       "      <td>390</td>\n",
       "      <td>1</td>\n",
       "      <td>1</td>\n",
       "      <td>0</td>\n",
       "      <td>3.0</td>\n",
       "      <td>2</td>\n",
       "      <td>1045</td>\n",
       "      <td>1</td>\n",
       "      <td>1</td>\n",
       "    </tr>\n",
       "    <tr>\n",
       "      <th>4</th>\n",
       "      <td>5fcb2af4510a272d9c4baedc</td>\n",
       "      <td>24</td>\n",
       "      <td>530</td>\n",
       "      <td>0</td>\n",
       "      <td>3</td>\n",
       "      <td>0</td>\n",
       "      <td>4.7</td>\n",
       "      <td>1</td>\n",
       "      <td>1410</td>\n",
       "      <td>1</td>\n",
       "      <td>3</td>\n",
       "    </tr>\n",
       "  </tbody>\n",
       "</table>\n",
       "</div>"
      ],
      "text/plain": [
       "                        _id  acreage  price  bed_type property_id  \\\n",
       "0  5fcb2af4510a272d9c4baed8       14    420         1           8   \n",
       "1  5fcb2af4510a272d9c4baed9       12    330         0          27   \n",
       "2  5fcb2af4510a272d9c4baeda       27    320         1          11   \n",
       "3  5fcb2af4510a272d9c4baedb       31    390         1           1   \n",
       "4  5fcb2af4510a272d9c4baedc       24    530         0           3   \n",
       "\n",
       "   is_near_beach  rank  meal  distance_from_center city_id property_type_id  \n",
       "0              0   3.9     4                   150       2                7  \n",
       "1              0   2.8     1                  6436       2                3  \n",
       "2              1   1.1     3                  3005       3                5  \n",
       "3              0   3.0     2                  1045       1                1  \n",
       "4              0   4.7     1                  1410       1                3  "
      ]
     },
     "execution_count": 3,
     "metadata": {},
     "output_type": "execute_result"
    }
   ],
   "source": [
    "df = pd.DataFrame(results)\n",
    "df.head()"
   ]
  },
  {
   "cell_type": "code",
   "execution_count": 7,
   "metadata": {},
   "outputs": [],
   "source": [
    "df = df[[\"acreage\", \"bed_type\", \"distance_from_center\", \"is_near_beach\", \"rank\", \"meal\", \"city_id\", \"property_type_id\", \"price\"]]\n",
    "df.to_csv(\"data.csv\", index=False)"
   ]
  },
  {
   "cell_type": "code",
   "execution_count": 4,
   "metadata": {},
   "outputs": [],
   "source": [
    "for i in range(len(df)):\n",
    "    df.at[i, \"city_id\"] = float(df[\"city_id\"][i])\n",
    "    df.at[i, \"property_type_id\"] = float(df[\"property_type_id\"][i])\n",
    "    \n",
    "x = np.array(df[[\"acreage\", \"bed_type\", \"distance_from_center\", \"is_near_beach\", \"rank\", \"meal\", \"city_id\", \"property_type_id\"]])\n",
    "y = np.array(df[\"price\"])\n",
    "\n",
    "x = x[:-10]\n",
    "y = y[:-10]"
   ]
  },
  {
   "cell_type": "markdown",
   "metadata": {},
   "source": [
    "### Class chuẩn hóa cho price, cơ bản là tìm min, max, min -> 0, max -> 1, revert để tìm lại số ban đầu"
   ]
  },
  {
   "cell_type": "code",
   "execution_count": 5,
   "metadata": {},
   "outputs": [],
   "source": [
    "class PriceScaler:\n",
    "    def __init__(self):\n",
    "        self.mean = 0\n",
    "        self.scale = 1\n",
    "        \n",
    "    def fit(self, x):\n",
    "        self.mean = min(x)\n",
    "        self.scale = max(x) - self.mean\n",
    "    \n",
    "    def transform(self, x):\n",
    "        return np.array([(i - self.mean) / self.scale for i in x])\n",
    "    \n",
    "    def revert(self, x):\n",
    "        return x * self.scale + self.mean"
   ]
  },
  {
   "cell_type": "markdown",
   "metadata": {},
   "source": [
    "### Train model linear"
   ]
  },
  {
   "cell_type": "code",
   "execution_count": 6,
   "metadata": {},
   "outputs": [
    {
     "name": "stdout",
     "output_type": "stream",
     "text": [
      "Score:  0.8615050747681532\n",
      "Predict:  408.2299560007969\n",
      "Real:  410.0\n"
     ]
    },
    {
     "data": {
      "image/png": "[encoded data removed]",
      "text/plain": [
       "<Figure size 936x432 with 2 Axes>"
      ]
     },
     "metadata": {
      "needs_background": "light"
     },
     "output_type": "display_data"
    }
   ],
   "source": [
    "from sklearn.linear_model import LinearRegression\n",
    "from sklearn.model_selection import train_test_split\n",
    "from sklearn.preprocessing import StandardScaler\n",
    "\n",
    "# Tạo mô hình chuẩn hóa cho x, y\n",
    "scaler_x = StandardScaler()\n",
    "scaler_x.fit(x)\n",
    "\n",
    "scaler_y = PriceScaler()\n",
    "scaler_y.fit(y)\n",
    "\n",
    "x_train, x_test, y_train, y_test = train_test_split(\n",
    "    scaler_x.transform(x), scaler_y.transform(y), test_size=0.1, random_state=42)\n",
    "\n",
    "linear = LinearRegression()\n",
    "linear.fit(x_train, y_train)\n",
    "print(\"Score: \", linear.score(x_test, y_test))\n",
    "\n",
    "print(\"Predict: \", scaler_y.revert(linear.predict([x_test[0]])[0]))\n",
    "print(\"Real: \", scaler_y.revert(y_test[0]))\n",
    "\n",
    "fig, (ax1, ax2) = plt.subplots(1, 2, figsize=(13, 6))\n",
    "ax1.scatter(linear.predict(x_train), y_train)\n",
    "ax1.title.set_text(\"Train\")\n",
    "ax2.scatter(linear.predict(x_test), y_test)\n",
    "ax2.title.set_text(\"Test\")"
   ]
  },
  {
   "cell_type": "code",
   "execution_count": null,
   "metadata": {},
   "outputs": [],
   "source": [
    "# Xem tham số của mô hình chuẩn hóa\n",
    "scaler_x.mean_, scaler_x.scale_\n",
    "\n",
    "# Xuất ra file để về sau dùng lại, ko cần fit nữa\n",
    "dump(scaler_x, 'scaler_x.model')\n",
    "dump(scaler_y, 'scaler_y.model')\n",
    "dump(linear, 'linear.model')"
   ]
  },
  {
   "cell_type": "markdown",
   "metadata": {},
   "source": [
    "### Train model Neural network"
   ]
  },
  {
   "cell_type": "code",
   "execution_count": null,
   "metadata": {},
   "outputs": [],
   "source": [
    "import keras\n",
    "\n",
    "from keras.layers import Dense\n",
    "from keras.models import Sequential\n",
    "\n",
    "learning_rate = 0.001\n",
    "\n",
    "model = Sequential()\n",
    "model.add(Dense(32, activation='relu', input_shape=(8, )))\n",
    "model.add(Dense(32, activation='relu'))\n",
    "model.add(Dense(1, activation='linear'))\n",
    "model.compile(loss='mse', optimizer=keras.optimizers.Adam(lr=learning_rate))\n",
    "\n",
    "model.fit(x_train, y_train, batch_size=128, epochs=100)\n",
    "model.save('neural.h5')\n",
    "\n",
    "print(\"Predict: \", scaler_y.revert(model.predict(np.array([x_test[0]]))[0][0]))\n",
    "print(\"Real: \", scaler_y.revert(y_test[0]))"
   ]
  },
  {
   "cell_type": "markdown",
   "metadata": {},
   "source": [
    "### Load"
   ]
  },
  {
   "cell_type": "code",
   "execution_count": null,
   "metadata": {},
   "outputs": [],
   "source": [
    "from joblib import load\n",
    "from keras.models import load_model\n",
    "\n",
    "scaler_x = load('scaler_x.model')\n",
    "scaler_y = load('scaler_y.model')\n",
    "linear = load('linear.model')\n",
    "neural = load_model('neural.h5')"
   ]
  },
  {
   "cell_type": "markdown",
   "metadata": {},
   "source": [
    "### Với bản ghi mới"
   ]
  },
  {
   "cell_type": "code",
   "execution_count": null,
   "metadata": {},
   "outputs": [],
   "source": [
    "d = {\n",
    "    'acreage': 14,\n",
    "    'bed_type': 1,\n",
    "    'is_near_beach': 0,\n",
    "    'rank': 3.9,\n",
    "    'meal': 4,\n",
    "    'distance_from_center': 150,\n",
    "    'city_id': '2',\n",
    "    'property_type_id': '7'\n",
    "}\n",
    "\n",
    "d[\"city_id\"] = float(d[\"city_id\"])\n",
    "d[\"property_type_id\"] = float(d[\"property_type_id\"])\n",
    "\n",
    "df = pd.DataFrame(d, [0])\n",
    "x = np.array(\n",
    "    df[[\"acreage\", \"bed_type\", \"distance_from_center\", \"is_near_beach\", \"rank\", \"meal\", \"city_id\", \"property_type_id\"]])\n",
    "\n",
    "x = scaler_x.transform(x)\n",
    "\n",
    "# Real 420\n",
    "\n",
    "l = linear.predict(x)[0]\n",
    "print(\"Linear: \", scaler_y.revert(l))\n",
    "n = neural.predict(x)\n",
    "print(\"Neural: \", scaler_y.revert(n)[0][0])"
   ]
  },
  {
   "cell_type": "code",
   "execution_count": null,
   "metadata": {},
   "outputs": [],
   "source": [
    "x = scaler_x.transform(x)\n",
    "y = scaler_y.transform(y)"
   ]
  },
  {
   "cell_type": "code",
   "execution_count": null,
   "metadata": {},
   "outputs": [],
   "source": [
    "fig, (ax1, ax2) = plt.subplots(1, 2, figsize=(13, 6))\n",
    "ax1.scatter(linear.predict(x), y)\n",
    "ax1.title.set_text(\"Linear Regression\")\n",
    "ax2.scatter(neural.predict(x), y)\n",
    "ax2.title.set_text(\"Neural Network\")"
   ]
  }
 ],
 "metadata": {
  "kernelspec": {
   "display_name": "Python 3",
   "language": "python",
   "name": "python3"
  },
  "language_info": {
   "codemirror_mode": {
    "name": "ipython",
    "version": 3
   },
   "file_extension": ".py",
   "mimetype": "text/x-python",
   "name": "python",
   "nbconvert_exporter": "python",
   "pygments_lexer": "ipython3",
   "version": "3.7.9"
  }
 },
 "nbformat": 4,
 "nbformat_minor": 4
}
